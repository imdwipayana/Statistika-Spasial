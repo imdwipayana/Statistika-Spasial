{
  "nbformat": 4,
  "nbformat_minor": 0,
  "metadata": {
    "colab": {
      "provenance": []
    },
    "kernelspec": {
      "name": "python3",
      "display_name": "Python 3"
    },
    "language_info": {
      "name": "python"
    }
  },
  "cells": [
    {
      "cell_type": "code",
      "execution_count": 9,
      "metadata": {
        "id": "MC65BUG_EBAM"
      },
      "outputs": [],
      "source": [
        "# Install semua library yang dibutuhkan: numpy, matplotlib, pandas, mgwr, geopandas dan libpysal\n",
        "# Gunakan perintah: pip install libpysal (sebagai contoh)\n",
        "import numpy as np\n",
        "import libpysal as ps\n",
        "import matplotlib.pyplot as plt\n",
        "import matplotlib as mpl\n",
        "import pandas as pd\n",
        "import geopandas as gp\n",
        "\n",
        "from mgwr.gwr import GWR, MGWR\n",
        "from mgwr.sel_bw import Sel_BW"
      ]
    },
    {
      "cell_type": "code",
      "source": [
        "pip install libpysal"
      ],
      "metadata": {
        "colab": {
          "base_uri": "https://localhost:8080/"
        },
        "id": "SfQ8UEgHEOe0",
        "outputId": "9103b3c4-d55f-4b84-b9a4-7cd0e3d5c973"
      },
      "execution_count": 4,
      "outputs": [
        {
          "output_type": "stream",
          "name": "stdout",
          "text": [
            "Looking in indexes: https://pypi.org/simple, https://us-python.pkg.dev/colab-wheels/public/simple/\n",
            "Requirement already satisfied: libpysal in /usr/local/lib/python3.10/dist-packages (4.7.0)\n",
            "Requirement already satisfied: platformdirs in /usr/local/lib/python3.10/dist-packages (from libpysal) (3.3.0)\n",
            "Requirement already satisfied: beautifulsoup4 in /usr/local/lib/python3.10/dist-packages (from libpysal) (4.11.2)\n",
            "Requirement already satisfied: jinja2 in /usr/local/lib/python3.10/dist-packages (from libpysal) (3.1.2)\n",
            "Requirement already satisfied: numpy>=1.3 in /usr/local/lib/python3.10/dist-packages (from libpysal) (1.22.4)\n",
            "Requirement already satisfied: pandas in /usr/local/lib/python3.10/dist-packages (from libpysal) (1.5.3)\n",
            "Requirement already satisfied: requests in /usr/local/lib/python3.10/dist-packages (from libpysal) (2.27.1)\n",
            "Requirement already satisfied: scipy>=0.11 in /usr/local/lib/python3.10/dist-packages (from libpysal) (1.10.1)\n",
            "Requirement already satisfied: packaging in /usr/local/lib/python3.10/dist-packages (from libpysal) (23.1)\n",
            "Requirement already satisfied: soupsieve>1.2 in /usr/local/lib/python3.10/dist-packages (from beautifulsoup4->libpysal) (2.4.1)\n",
            "Requirement already satisfied: MarkupSafe>=2.0 in /usr/local/lib/python3.10/dist-packages (from jinja2->libpysal) (2.1.2)\n",
            "Requirement already satisfied: python-dateutil>=2.8.1 in /usr/local/lib/python3.10/dist-packages (from pandas->libpysal) (2.8.2)\n",
            "Requirement already satisfied: pytz>=2020.1 in /usr/local/lib/python3.10/dist-packages (from pandas->libpysal) (2022.7.1)\n",
            "Requirement already satisfied: urllib3<1.27,>=1.21.1 in /usr/local/lib/python3.10/dist-packages (from requests->libpysal) (1.26.15)\n",
            "Requirement already satisfied: certifi>=2017.4.17 in /usr/local/lib/python3.10/dist-packages (from requests->libpysal) (2022.12.7)\n",
            "Requirement already satisfied: charset-normalizer~=2.0.0 in /usr/local/lib/python3.10/dist-packages (from requests->libpysal) (2.0.12)\n",
            "Requirement already satisfied: idna<4,>=2.5 in /usr/local/lib/python3.10/dist-packages (from requests->libpysal) (3.4)\n",
            "Requirement already satisfied: six>=1.5 in /usr/local/lib/python3.10/dist-packages (from python-dateutil>=2.8.1->pandas->libpysal) (1.16.0)\n"
          ]
        }
      ]
    },
    {
      "cell_type": "code",
      "source": [
        "pip install numpy"
      ],
      "metadata": {
        "colab": {
          "base_uri": "https://localhost:8080/"
        },
        "id": "LNk_VUXfEW-a",
        "outputId": "8d5870a6-cc44-42c3-fbfb-8fd703d8c399"
      },
      "execution_count": 2,
      "outputs": [
        {
          "output_type": "stream",
          "name": "stdout",
          "text": [
            "Looking in indexes: https://pypi.org/simple, https://us-python.pkg.dev/colab-wheels/public/simple/\n",
            "Requirement already satisfied: numpy in /usr/local/lib/python3.10/dist-packages (1.22.4)\n"
          ]
        }
      ]
    },
    {
      "cell_type": "code",
      "source": [
        "pip install pandas"
      ],
      "metadata": {
        "id": "YimLvz2TEagv"
      },
      "execution_count": null,
      "outputs": []
    },
    {
      "cell_type": "code",
      "source": [
        "pip install matplotlib"
      ],
      "metadata": {
        "colab": {
          "base_uri": "https://localhost:8080/"
        },
        "id": "NMzVuSxvEdn5",
        "outputId": "dd42d220-bc7a-46c0-8eaf-2a63d89ff0af"
      },
      "execution_count": 5,
      "outputs": [
        {
          "output_type": "stream",
          "name": "stdout",
          "text": [
            "Looking in indexes: https://pypi.org/simple, https://us-python.pkg.dev/colab-wheels/public/simple/\n",
            "Requirement already satisfied: matplotlib in /usr/local/lib/python3.10/dist-packages (3.7.1)\n",
            "Requirement already satisfied: contourpy>=1.0.1 in /usr/local/lib/python3.10/dist-packages (from matplotlib) (1.0.7)\n",
            "Requirement already satisfied: cycler>=0.10 in /usr/local/lib/python3.10/dist-packages (from matplotlib) (0.11.0)\n",
            "Requirement already satisfied: fonttools>=4.22.0 in /usr/local/lib/python3.10/dist-packages (from matplotlib) (4.39.3)\n",
            "Requirement already satisfied: kiwisolver>=1.0.1 in /usr/local/lib/python3.10/dist-packages (from matplotlib) (1.4.4)\n",
            "Requirement already satisfied: numpy>=1.20 in /usr/local/lib/python3.10/dist-packages (from matplotlib) (1.22.4)\n",
            "Requirement already satisfied: packaging>=20.0 in /usr/local/lib/python3.10/dist-packages (from matplotlib) (23.1)\n",
            "Requirement already satisfied: pillow>=6.2.0 in /usr/local/lib/python3.10/dist-packages (from matplotlib) (8.4.0)\n",
            "Requirement already satisfied: pyparsing>=2.3.1 in /usr/local/lib/python3.10/dist-packages (from matplotlib) (3.0.9)\n",
            "Requirement already satisfied: python-dateutil>=2.7 in /usr/local/lib/python3.10/dist-packages (from matplotlib) (2.8.2)\n",
            "Requirement already satisfied: six>=1.5 in /usr/local/lib/python3.10/dist-packages (from python-dateutil>=2.7->matplotlib) (1.16.0)\n"
          ]
        }
      ]
    },
    {
      "cell_type": "code",
      "source": [
        "pip install mgwr"
      ],
      "metadata": {
        "colab": {
          "base_uri": "https://localhost:8080/"
        },
        "id": "JXn9HANpEduK",
        "outputId": "646c82c7-8126-4b94-8a36-a0b287f59162"
      },
      "execution_count": 6,
      "outputs": [
        {
          "output_type": "stream",
          "name": "stdout",
          "text": [
            "Looking in indexes: https://pypi.org/simple, https://us-python.pkg.dev/colab-wheels/public/simple/\n",
            "Collecting mgwr\n",
            "  Downloading mgwr-2.1.2.tar.gz (41 kB)\n",
            "\u001b[2K     \u001b[90m━━━━━━━━━━━━━━━━━━━━━━━━━━━━━━━━━━━━━━━━\u001b[0m \u001b[32m41.8/41.8 kB\u001b[0m \u001b[31m3.4 MB/s\u001b[0m eta \u001b[36m0:00:00\u001b[0m\n",
            "\u001b[?25h  Preparing metadata (setup.py) ... \u001b[?25l\u001b[?25hdone\n",
            "Requirement already satisfied: scipy>=0.11 in /usr/local/lib/python3.10/dist-packages (from mgwr) (1.10.1)\n",
            "Requirement already satisfied: numpy>=1.3 in /usr/local/lib/python3.10/dist-packages (from mgwr) (1.22.4)\n",
            "Requirement already satisfied: libpysal>=4.0.0 in /usr/local/lib/python3.10/dist-packages (from mgwr) (4.7.0)\n",
            "Collecting spglm>=1.0.6 (from mgwr)\n",
            "  Downloading spglm-1.0.8.tar.gz (37 kB)\n",
            "  Preparing metadata (setup.py) ... \u001b[?25l\u001b[?25hdone\n",
            "Collecting spreg (from mgwr)\n",
            "  Downloading spreg-1.3.2-py3-none-any.whl (220 kB)\n",
            "\u001b[2K     \u001b[90m━━━━━━━━━━━━━━━━━━━━━━━━━━━━━━━━━━━━━━\u001b[0m \u001b[32m220.2/220.2 kB\u001b[0m \u001b[31m17.3 MB/s\u001b[0m eta \u001b[36m0:00:00\u001b[0m\n",
            "\u001b[?25hRequirement already satisfied: platformdirs in /usr/local/lib/python3.10/dist-packages (from libpysal>=4.0.0->mgwr) (3.3.0)\n",
            "Requirement already satisfied: beautifulsoup4 in /usr/local/lib/python3.10/dist-packages (from libpysal>=4.0.0->mgwr) (4.11.2)\n",
            "Requirement already satisfied: jinja2 in /usr/local/lib/python3.10/dist-packages (from libpysal>=4.0.0->mgwr) (3.1.2)\n",
            "Requirement already satisfied: pandas in /usr/local/lib/python3.10/dist-packages (from libpysal>=4.0.0->mgwr) (1.5.3)\n",
            "Requirement already satisfied: requests in /usr/local/lib/python3.10/dist-packages (from libpysal>=4.0.0->mgwr) (2.27.1)\n",
            "Requirement already satisfied: packaging in /usr/local/lib/python3.10/dist-packages (from libpysal>=4.0.0->mgwr) (23.1)\n",
            "Requirement already satisfied: scikit-learn>=0.22 in /usr/local/lib/python3.10/dist-packages (from spreg->mgwr) (1.2.2)\n",
            "Requirement already satisfied: joblib>=1.1.1 in /usr/local/lib/python3.10/dist-packages (from scikit-learn>=0.22->spreg->mgwr) (1.2.0)\n",
            "Requirement already satisfied: threadpoolctl>=2.0.0 in /usr/local/lib/python3.10/dist-packages (from scikit-learn>=0.22->spreg->mgwr) (3.1.0)\n",
            "Requirement already satisfied: soupsieve>1.2 in /usr/local/lib/python3.10/dist-packages (from beautifulsoup4->libpysal>=4.0.0->mgwr) (2.4.1)\n",
            "Requirement already satisfied: MarkupSafe>=2.0 in /usr/local/lib/python3.10/dist-packages (from jinja2->libpysal>=4.0.0->mgwr) (2.1.2)\n",
            "Requirement already satisfied: python-dateutil>=2.8.1 in /usr/local/lib/python3.10/dist-packages (from pandas->libpysal>=4.0.0->mgwr) (2.8.2)\n",
            "Requirement already satisfied: pytz>=2020.1 in /usr/local/lib/python3.10/dist-packages (from pandas->libpysal>=4.0.0->mgwr) (2022.7.1)\n",
            "Requirement already satisfied: urllib3<1.27,>=1.21.1 in /usr/local/lib/python3.10/dist-packages (from requests->libpysal>=4.0.0->mgwr) (1.26.15)\n",
            "Requirement already satisfied: certifi>=2017.4.17 in /usr/local/lib/python3.10/dist-packages (from requests->libpysal>=4.0.0->mgwr) (2022.12.7)\n",
            "Requirement already satisfied: charset-normalizer~=2.0.0 in /usr/local/lib/python3.10/dist-packages (from requests->libpysal>=4.0.0->mgwr) (2.0.12)\n",
            "Requirement already satisfied: idna<4,>=2.5 in /usr/local/lib/python3.10/dist-packages (from requests->libpysal>=4.0.0->mgwr) (3.4)\n",
            "Requirement already satisfied: six>=1.5 in /usr/local/lib/python3.10/dist-packages (from python-dateutil>=2.8.1->pandas->libpysal>=4.0.0->mgwr) (1.16.0)\n",
            "Building wheels for collected packages: mgwr, spglm\n",
            "  Building wheel for mgwr (setup.py) ... \u001b[?25l\u001b[?25hdone\n",
            "  Created wheel for mgwr: filename=mgwr-2.1.2-py3-none-any.whl size=46365 sha256=2da88690ebfdd51d6f8b6c6ef2eba755c8615ac1545cf91ad67d74e31b462e08\n",
            "  Stored in directory: /root/.cache/pip/wheels/4d/43/6e/bd2d0e1ccee77089e0b266ebc4948d9a90ef363e0be23663aa\n",
            "  Building wheel for spglm (setup.py) ... \u001b[?25l\u001b[?25hdone\n",
            "  Created wheel for spglm: filename=spglm-1.0.8-py3-none-any.whl size=38785 sha256=8d52076de4d31873c36bd29e43202921d71d2ac3f4fd90291cd7da31f52f243f\n",
            "  Stored in directory: /root/.cache/pip/wheels/a2/a7/67/07d6d6809173d768c16235f813520d6a4053984a160aa933fa\n",
            "Successfully built mgwr spglm\n",
            "Installing collected packages: spreg, spglm, mgwr\n",
            "Successfully installed mgwr-2.1.2 spglm-1.0.8 spreg-1.3.2\n"
          ]
        }
      ]
    },
    {
      "cell_type": "code",
      "source": [
        " pip install geopandas"
      ],
      "metadata": {
        "colab": {
          "base_uri": "https://localhost:8080/"
        },
        "id": "7OicWofKEmpW",
        "outputId": "cc84993e-67b0-40ca-e7ad-8fcf058ae7bc"
      },
      "execution_count": 7,
      "outputs": [
        {
          "output_type": "stream",
          "name": "stdout",
          "text": [
            "Looking in indexes: https://pypi.org/simple, https://us-python.pkg.dev/colab-wheels/public/simple/\n",
            "Collecting geopandas\n",
            "  Downloading geopandas-0.13.2-py3-none-any.whl (1.1 MB)\n",
            "\u001b[2K     \u001b[90m━━━━━━━━━━━━━━━━━━━━━━━━━━━━━━━━━━━━━━━━\u001b[0m \u001b[32m1.1/1.1 MB\u001b[0m \u001b[31m14.6 MB/s\u001b[0m eta \u001b[36m0:00:00\u001b[0m\n",
            "\u001b[?25hCollecting fiona>=1.8.19 (from geopandas)\n",
            "  Downloading Fiona-1.9.4.post1-cp310-cp310-manylinux_2_17_x86_64.manylinux2014_x86_64.whl (16.4 MB)\n",
            "\u001b[2K     \u001b[90m━━━━━━━━━━━━━━━━━━━━━━━━━━━━━━━━━━━━━━━━\u001b[0m \u001b[32m16.4/16.4 MB\u001b[0m \u001b[31m37.7 MB/s\u001b[0m eta \u001b[36m0:00:00\u001b[0m\n",
            "\u001b[?25hRequirement already satisfied: packaging in /usr/local/lib/python3.10/dist-packages (from geopandas) (23.1)\n",
            "Requirement already satisfied: pandas>=1.1.0 in /usr/local/lib/python3.10/dist-packages (from geopandas) (1.5.3)\n",
            "Collecting pyproj>=3.0.1 (from geopandas)\n",
            "  Downloading pyproj-3.6.0-cp310-cp310-manylinux_2_17_x86_64.manylinux2014_x86_64.whl (7.9 MB)\n",
            "\u001b[2K     \u001b[90m━━━━━━━━━━━━━━━━━━━━━━━━━━━━━━━━━━━━━━━━\u001b[0m \u001b[32m7.9/7.9 MB\u001b[0m \u001b[31m47.6 MB/s\u001b[0m eta \u001b[36m0:00:00\u001b[0m\n",
            "\u001b[?25hRequirement already satisfied: shapely>=1.7.1 in /usr/local/lib/python3.10/dist-packages (from geopandas) (2.0.1)\n",
            "Requirement already satisfied: attrs>=19.2.0 in /usr/local/lib/python3.10/dist-packages (from fiona>=1.8.19->geopandas) (23.1.0)\n",
            "Requirement already satisfied: certifi in /usr/local/lib/python3.10/dist-packages (from fiona>=1.8.19->geopandas) (2022.12.7)\n",
            "Requirement already satisfied: click~=8.0 in /usr/local/lib/python3.10/dist-packages (from fiona>=1.8.19->geopandas) (8.1.3)\n",
            "Collecting click-plugins>=1.0 (from fiona>=1.8.19->geopandas)\n",
            "  Downloading click_plugins-1.1.1-py2.py3-none-any.whl (7.5 kB)\n",
            "Collecting cligj>=0.5 (from fiona>=1.8.19->geopandas)\n",
            "  Downloading cligj-0.7.2-py3-none-any.whl (7.1 kB)\n",
            "Requirement already satisfied: six in /usr/local/lib/python3.10/dist-packages (from fiona>=1.8.19->geopandas) (1.16.0)\n",
            "Requirement already satisfied: python-dateutil>=2.8.1 in /usr/local/lib/python3.10/dist-packages (from pandas>=1.1.0->geopandas) (2.8.2)\n",
            "Requirement already satisfied: pytz>=2020.1 in /usr/local/lib/python3.10/dist-packages (from pandas>=1.1.0->geopandas) (2022.7.1)\n",
            "Requirement already satisfied: numpy>=1.21.0 in /usr/local/lib/python3.10/dist-packages (from pandas>=1.1.0->geopandas) (1.22.4)\n",
            "Installing collected packages: pyproj, cligj, click-plugins, fiona, geopandas\n",
            "Successfully installed click-plugins-1.1.1 cligj-0.7.2 fiona-1.9.4.post1 geopandas-0.13.2 pyproj-3.6.0\n"
          ]
        }
      ]
    },
    {
      "cell_type": "code",
      "source": [
        "import os"
      ],
      "metadata": {
        "id": "dN64_8ftFlLV"
      },
      "execution_count": 8,
      "outputs": []
    },
    {
      "cell_type": "code",
      "source": [
        "from google.colab import drive\n",
        "drive.mount('/content/gdrive')"
      ],
      "metadata": {
        "colab": {
          "base_uri": "https://localhost:8080/"
        },
        "id": "kr9e2lxBGZzD",
        "outputId": "5e223aa1-edda-4c7f-c49c-f4cad595e8d3"
      },
      "execution_count": 10,
      "outputs": [
        {
          "output_type": "stream",
          "name": "stdout",
          "text": [
            "Mounted at /content/gdrive\n"
          ]
        }
      ]
    },
    {
      "cell_type": "code",
      "source": [
        "path = '/content/gdrive/MyDrive/clearwater/'\n",
        "os.listdir(path)"
      ],
      "metadata": {
        "colab": {
          "base_uri": "https://localhost:8080/"
        },
        "id": "xDA-f3SlLlQ8",
        "outputId": "7f35104e-1af1-46a1-b64b-345c7b23400f"
      },
      "execution_count": 11,
      "outputs": [
        {
          "output_type": "execute_result",
          "data": {
            "text/plain": [
              "['landslides.csv',\n",
              " 'quads.dbf',\n",
              " 'quads.shp',\n",
              " 'streams.dbf',\n",
              " 'streams.shp',\n",
              " 'streams.shx',\n",
              " 'quads.shx',\n",
              " 'landslidess.csv',\n",
              " 'clearwater.R']"
            ]
          },
          "metadata": {},
          "execution_count": 11
        }
      ]
    },
    {
      "cell_type": "code",
      "source": [
        "#Load Georgia dataset and generate plot of Georgia counties (figure 1)\n",
        "df = pd.read_csv(path + 'landslides.csv')\n",
        "#shp = gp.read_file(path + 'streams.shp')\n",
        "shp = gp.read_file(path + 'quads.shp')\n",
        "fig, ax = plt.subplots(figsize=(10,10))\n",
        "shp.plot(ax=ax, **{'edgecolor':'red', 'facecolor':'white'})\n",
        "shp.centroid.plot(ax=ax, c='black')"
      ],
      "metadata": {
        "colab": {
          "base_uri": "https://localhost:8080/",
          "height": 748
        },
        "id": "ZpzLLt9UNcMG",
        "outputId": "b6d3ac57-0d5e-4fcd-b39c-4fcfc6dee30e"
      },
      "execution_count": 13,
      "outputs": [
        {
          "output_type": "execute_result",
          "data": {
            "text/plain": [
              "<Axes: >"
            ]
          },
          "metadata": {},
          "execution_count": 13
        },
        {
          "output_type": "display_data",
          "data": {
            "text/plain": [
              "<Figure size 1000x1000 with 1 Axes>"
            ],
            "image/png": "[encoded data removed]"
          },
          "metadata": {}
        }
      ]
    },
    {
      "cell_type": "code",
      "source": [
        "# Tentukan variabel bebas dan terikatnya\n",
        "g_y = df['Landslid'].values.reshape((-1,1))\n",
        "g_X = df[['Elev', 'Slope', 'SinAspct', 'CosAspct', 'AbsSouth', 'DistStrm']].values\n",
        "# Tentukan Latitude dan Longitude\n",
        "u = df['X']\n",
        "v = df['Y']\n",
        "g_coords = list(zip(u,v))\n",
        "\n",
        "g_X = (g_X - g_X.mean(axis=0)) / g_X.std(axis=0)\n",
        "\n",
        "g_y = g_y.reshape((-1,1))\n",
        "\n",
        "g_y = (g_y - g_y.mean(axis=0)) / g_y.std(axis=0)"
      ],
      "metadata": {
        "id": "PP5AfKxkO_n-"
      },
      "execution_count": 14,
      "outputs": []
    },
    {
      "cell_type": "code",
      "source": [
        "# Kalibrate GWR model\n",
        "gwr_selector = Sel_BW(g_coords, g_y, g_X)\n",
        "gwr_bw = gwr_selector.search(bw_min=2)\n",
        "print(gwr_bw)\n",
        "gwr_results = GWR(g_coords, g_y, g_X, gwr_bw).fit()"
      ],
      "metadata": {
        "colab": {
          "base_uri": "https://localhost:8080/"
        },
        "id": "krNiIio9lwjD",
        "outputId": "7a1fe250-fb52-47c1-c976-62f93ba1a295"
      },
      "execution_count": 15,
      "outputs": [
        {
          "output_type": "stream",
          "name": "stdout",
          "text": [
            "171.0\n"
          ]
        }
      ]
    },
    {
      "cell_type": "code",
      "source": [
        "gwr_results.params[0:239]"
      ],
      "metadata": {
        "colab": {
          "base_uri": "https://localhost:8080/"
        },
        "id": "9oH89sutl2_G",
        "outputId": "5d67f0c1-d176-42fd-cb90-d357b0d1f09e"
      },
      "execution_count": 16,
      "outputs": [
        {
          "output_type": "execute_result",
          "data": {
            "text/plain": [
              "array([[ 0.13599814, -0.21753686,  0.06699391, ..., -0.11119288,\n",
              "         0.00794546, -0.15679158],\n",
              "       [ 0.19343182, -0.23206473,  0.06701515, ..., -0.44782221,\n",
              "         0.33342506, -0.17720392],\n",
              "       [ 0.13622303, -0.22411548,  0.07358568, ..., -0.05420387,\n",
              "        -0.03800553, -0.13873459],\n",
              "       ...,\n",
              "       [-0.01634885, -0.40335449,  0.14956533, ..., -0.34607087,\n",
              "         0.21437974, -0.06589473],\n",
              "       [ 0.19188764, -0.25643392,  0.0840639 , ..., -0.40127305,\n",
              "         0.32438619, -0.09142494],\n",
              "       [ 0.19577724, -0.23738437,  0.11221914, ..., -0.16773571,\n",
              "         0.14755688,  0.03803814]])"
            ]
          },
          "metadata": {},
          "execution_count": 16
        }
      ]
    },
    {
      "cell_type": "code",
      "source": [
        "gwr_results.localR2[0:239]"
      ],
      "metadata": {
        "colab": {
          "base_uri": "https://localhost:8080/"
        },
        "id": "JJNfFCnil7Ad",
        "outputId": "fd6b9986-ed1b-48e0-e96a-6cf269975377"
      },
      "execution_count": 17,
      "outputs": [
        {
          "output_type": "execute_result",
          "data": {
            "text/plain": [
              "array([[0.1749662 ],\n",
              "       [0.17733816],\n",
              "       [0.17327434],\n",
              "       [0.17785548],\n",
              "       [0.16106696],\n",
              "       [0.18122992],\n",
              "       [0.15308144],\n",
              "       [0.16153381],\n",
              "       [0.15853776],\n",
              "       [0.15814235],\n",
              "       [0.13779293],\n",
              "       [0.13727354],\n",
              "       [0.14032367],\n",
              "       [0.14035225],\n",
              "       [0.27545568],\n",
              "       [0.25005267],\n",
              "       [0.14891246],\n",
              "       [0.12187105],\n",
              "       [0.15857165],\n",
              "       [0.32696775],\n",
              "       [0.39582894],\n",
              "       [0.20247537],\n",
              "       [0.35008581],\n",
              "       [0.34384361],\n",
              "       [0.1342881 ],\n",
              "       [0.13902339],\n",
              "       [0.16696318],\n",
              "       [0.35313317],\n",
              "       [0.30317503],\n",
              "       [0.15823501],\n",
              "       [0.35378741],\n",
              "       [0.30193769],\n",
              "       [0.26731568],\n",
              "       [0.25458678],\n",
              "       [0.25374889],\n",
              "       [0.23906734],\n",
              "       [0.32504106],\n",
              "       [0.29538141],\n",
              "       [0.32451765],\n",
              "       [0.37297987],\n",
              "       [0.30145274],\n",
              "       [0.30346603],\n",
              "       [0.33738805],\n",
              "       [0.34232164],\n",
              "       [0.33887889],\n",
              "       [0.34671767],\n",
              "       [0.34021038],\n",
              "       [0.33403377],\n",
              "       [0.34038476],\n",
              "       [0.35140837],\n",
              "       [0.32950523],\n",
              "       [0.43409855],\n",
              "       [0.31625111],\n",
              "       [0.28613924],\n",
              "       [0.26026864],\n",
              "       [0.23192748],\n",
              "       [0.21348315],\n",
              "       [0.2055555 ],\n",
              "       [0.43006405],\n",
              "       [0.43111606],\n",
              "       [0.35511066],\n",
              "       [0.39710079],\n",
              "       [0.39589094],\n",
              "       [0.39723151],\n",
              "       [0.39779106],\n",
              "       [0.39876225],\n",
              "       [0.3989449 ],\n",
              "       [0.26897884],\n",
              "       [0.31420173],\n",
              "       [0.2981066 ],\n",
              "       [0.33301395],\n",
              "       [0.33663107],\n",
              "       [0.120581  ],\n",
              "       [0.16710834],\n",
              "       [0.17293662],\n",
              "       [0.16614121],\n",
              "       [0.16533228],\n",
              "       [0.14139634],\n",
              "       [0.17616353],\n",
              "       [0.16805367],\n",
              "       [0.15701386],\n",
              "       [0.29388185],\n",
              "       [0.43132058],\n",
              "       [0.30064254],\n",
              "       [0.27092598],\n",
              "       [0.26852317],\n",
              "       [0.35702011],\n",
              "       [0.35650013],\n",
              "       [0.31981946],\n",
              "       [0.35428739],\n",
              "       [0.34285875],\n",
              "       [0.33161062],\n",
              "       [0.2874755 ],\n",
              "       [0.2639291 ],\n",
              "       [0.24554226],\n",
              "       [0.27357642],\n",
              "       [0.26510496],\n",
              "       [0.3038017 ],\n",
              "       [0.31480146],\n",
              "       [0.31982006],\n",
              "       [0.24660286],\n",
              "       [0.24024086],\n",
              "       [0.36087956],\n",
              "       [0.3376333 ],\n",
              "       [0.34010288],\n",
              "       [0.30687075],\n",
              "       [0.29812858],\n",
              "       [0.32963209],\n",
              "       [0.33345543],\n",
              "       [0.43370442],\n",
              "       [0.43480049],\n",
              "       [0.43337235],\n",
              "       [0.43332727],\n",
              "       [0.43381661],\n",
              "       [0.43275537],\n",
              "       [0.43279918],\n",
              "       [0.44408454],\n",
              "       [0.44358024],\n",
              "       [0.4475393 ],\n",
              "       [0.2959047 ],\n",
              "       [0.29228041],\n",
              "       [0.29316639],\n",
              "       [0.21903713],\n",
              "       [0.13016199],\n",
              "       [0.16409629],\n",
              "       [0.34647116],\n",
              "       [0.35011175],\n",
              "       [0.16212727],\n",
              "       [0.31983213],\n",
              "       [0.31955114],\n",
              "       [0.23813672],\n",
              "       [0.14665893],\n",
              "       [0.14671659],\n",
              "       [0.16537114],\n",
              "       [0.16310464],\n",
              "       [0.16149207],\n",
              "       [0.2291858 ],\n",
              "       [0.26587285],\n",
              "       [0.4340751 ],\n",
              "       [0.13212323],\n",
              "       [0.41736473],\n",
              "       [0.44318395],\n",
              "       [0.25888234],\n",
              "       [0.26340925],\n",
              "       [0.34480053],\n",
              "       [0.31858477],\n",
              "       [0.1479394 ],\n",
              "       [0.3837241 ],\n",
              "       [0.23587789],\n",
              "       [0.28017565],\n",
              "       [0.34344428],\n",
              "       [0.36435824],\n",
              "       [0.20351517],\n",
              "       [0.15202183],\n",
              "       [0.28720665],\n",
              "       [0.13295061],\n",
              "       [0.33091003],\n",
              "       [0.35471505],\n",
              "       [0.16110009],\n",
              "       [0.30763493],\n",
              "       [0.3970629 ],\n",
              "       [0.3973681 ],\n",
              "       [0.26923308],\n",
              "       [0.42096007],\n",
              "       [0.32437583],\n",
              "       [0.36580797],\n",
              "       [0.32803102],\n",
              "       [0.37270107],\n",
              "       [0.35742749],\n",
              "       [0.34872791],\n",
              "       [0.33942434],\n",
              "       [0.42420725],\n",
              "       [0.24691128],\n",
              "       [0.39474489],\n",
              "       [0.29279682],\n",
              "       [0.13136733],\n",
              "       [0.35121282],\n",
              "       [0.27529748],\n",
              "       [0.16529328],\n",
              "       [0.42814897],\n",
              "       [0.32900465],\n",
              "       [0.30296213],\n",
              "       [0.40552033],\n",
              "       [0.24499997],\n",
              "       [0.1514205 ],\n",
              "       [0.37232919],\n",
              "       [0.37974424],\n",
              "       [0.34315518],\n",
              "       [0.39588958],\n",
              "       [0.38187372],\n",
              "       [0.38287613],\n",
              "       [0.1809225 ],\n",
              "       [0.12599396],\n",
              "       [0.22235348],\n",
              "       [0.32340601],\n",
              "       [0.30578226],\n",
              "       [0.37493142],\n",
              "       [0.27065697],\n",
              "       [0.34634676],\n",
              "       [0.41428878],\n",
              "       [0.31423885],\n",
              "       [0.38235496],\n",
              "       [0.17869915],\n",
              "       [0.41019576],\n",
              "       [0.33249311],\n",
              "       [0.42117686],\n",
              "       [0.27256032],\n",
              "       [0.28811517],\n",
              "       [0.34633358],\n",
              "       [0.3369521 ],\n",
              "       [0.43640076],\n",
              "       [0.2845727 ],\n",
              "       [0.3330379 ],\n",
              "       [0.23170715],\n",
              "       [0.35639625],\n",
              "       [0.43609351],\n",
              "       [0.30902785],\n",
              "       [0.35995315],\n",
              "       [0.34156409],\n",
              "       [0.30480318],\n",
              "       [0.29937921],\n",
              "       [0.41104512],\n",
              "       [0.34741371],\n",
              "       [0.14048354],\n",
              "       [0.15849961],\n",
              "       [0.30186051],\n",
              "       [0.37291782],\n",
              "       [0.29967675],\n",
              "       [0.29379911],\n",
              "       [0.20047759],\n",
              "       [0.40228002],\n",
              "       [0.34014806],\n",
              "       [0.16367424],\n",
              "       [0.40272997],\n",
              "       [0.18639418],\n",
              "       [0.32088704],\n",
              "       [0.35913325],\n",
              "       [0.17808327],\n",
              "       [0.14726052]])"
            ]
          },
          "metadata": {},
          "execution_count": 17
        }
      ]
    },
    {
      "cell_type": "code",
      "source": [
        "gwr_results.summary()"
      ],
      "metadata": {
        "colab": {
          "base_uri": "https://localhost:8080/"
        },
        "id": "YN6fUgJGl-0V",
        "outputId": "ac346af5-7ea8-4d21-d940-1c179b8af2e1"
      },
      "execution_count": 18,
      "outputs": [
        {
          "output_type": "stream",
          "name": "stdout",
          "text": [
            "===========================================================================\n",
            "Model type                                                         Gaussian\n",
            "Number of observations:                                                 239\n",
            "Number of covariates:                                                     7\n",
            "\n",
            "Global Regression Results\n",
            "---------------------------------------------------------------------------\n",
            "Residual sum of squares:                                            185.119\n",
            "Log-likelihood:                                                    -308.598\n",
            "AIC:                                                                631.197\n",
            "AICc:                                                               633.823\n",
            "BIC:                                                              -1085.420\n",
            "R2:                                                                   0.225\n",
            "Adj. R2:                                                              0.205\n",
            "\n",
            "Variable                              Est.         SE  t(Est/SE)    p-value\n",
            "------------------------------- ---------- ---------- ---------- ----------\n",
            "X0                                   0.000      0.058      0.000      1.000\n",
            "X1                                  -0.292      0.060     -4.823      0.000\n",
            "X2                                   0.249      0.062      4.030      0.000\n",
            "X3                                   0.019      0.059      0.325      0.745\n",
            "X4                                  -0.282      0.446     -0.633      0.527\n",
            "X5                                   0.136      0.445      0.305      0.760\n",
            "X6                                  -0.054      0.061     -0.886      0.376\n",
            "\n",
            "Geographically Weighted Regression (GWR) Results\n",
            "---------------------------------------------------------------------------\n",
            "Spatial kernel:                                           Adaptive bisquare\n",
            "Bandwidth used:                                                     171.000\n",
            "\n",
            "Diagnostic information\n",
            "---------------------------------------------------------------------------\n",
            "Residual sum of squares:                                            155.654\n",
            "Effective number of parameters (trace(S)):                           23.076\n",
            "Degree of freedom (n - trace(S)):                                   215.924\n",
            "Sigma estimate:                                                       0.849\n",
            "Log-likelihood:                                                    -287.881\n",
            "AIC:                                                                623.915\n",
            "AICc:                                                               629.559\n",
            "BIC:                                                                707.615\n",
            "R2:                                                                   0.349\n",
            "Adjusted R2:                                                          0.279\n",
            "Adj. alpha (95%):                                                     0.015\n",
            "Adj. critical t value (95%):                                          2.446\n",
            "\n",
            "Summary Statistics For GWR Parameter Estimates\n",
            "---------------------------------------------------------------------------\n",
            "Variable                   Mean        STD        Min     Median        Max\n",
            "-------------------- ---------- ---------- ---------- ---------- ----------\n",
            "X0                        0.027      0.114     -0.171      0.028      0.198\n",
            "X1                       -0.293      0.087     -0.459     -0.278     -0.156\n",
            "X2                        0.216      0.106      0.067      0.221      0.408\n",
            "X3                        0.031      0.067     -0.104      0.039      0.138\n",
            "X4                       -0.144      0.343     -0.930     -0.137      0.479\n",
            "X5                        0.040      0.317     -0.600      0.052      0.701\n",
            "X6                       -0.027      0.059     -0.177     -0.011      0.067\n",
            "===========================================================================\n",
            "\n"
          ]
        }
      ]
    }
  ]
}